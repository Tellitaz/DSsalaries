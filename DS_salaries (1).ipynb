{
 "cells": [
  {
   "cell_type": "code",
   "execution_count": 123,
   "id": "90f93d69-f782-4340-80ea-0a2512007da6",
   "metadata": {},
   "outputs": [
    {
     "name": "stdout",
     "output_type": "stream",
     "text": [
      "Requirement already satisfied: pandas in c:\\users\\user\\appdata\\local\\programs\\python\\python310\\lib\\site-packages (2.0.3)\n",
      "Requirement already satisfied: python-dateutil>=2.8.2 in c:\\users\\user\\appdata\\local\\programs\\python\\python310\\lib\\site-packages (from pandas) (2.8.2)\n",
      "Requirement already satisfied: pytz>=2020.1 in c:\\users\\user\\appdata\\local\\programs\\python\\python310\\lib\\site-packages (from pandas) (2023.3)\n",
      "Requirement already satisfied: tzdata>=2022.1 in c:\\users\\user\\appdata\\local\\programs\\python\\python310\\lib\\site-packages (from pandas) (2023.3)\n",
      "Requirement already satisfied: numpy>=1.21.0 in c:\\users\\user\\appdata\\local\\programs\\python\\python310\\lib\\site-packages (from pandas) (1.25.2)\n",
      "Requirement already satisfied: six>=1.5 in c:\\users\\user\\appdata\\local\\programs\\python\\python310\\lib\\site-packages (from python-dateutil>=2.8.2->pandas) (1.16.0)\n",
      "Requirement already satisfied: seaborn in c:\\users\\user\\appdata\\local\\programs\\python\\python310\\lib\\site-packages (0.12.2)\n",
      "Requirement already satisfied: numpy!=1.24.0,>=1.17 in c:\\users\\user\\appdata\\local\\programs\\python\\python310\\lib\\site-packages (from seaborn) (1.25.2)\n",
      "Requirement already satisfied: pandas>=0.25 in c:\\users\\user\\appdata\\local\\programs\\python\\python310\\lib\\site-packages (from seaborn) (2.0.3)\n",
      "Requirement already satisfied: matplotlib!=3.6.1,>=3.1 in c:\\users\\user\\appdata\\local\\programs\\python\\python310\\lib\\site-packages (from seaborn) (3.7.2)\n",
      "Requirement already satisfied: contourpy>=1.0.1 in c:\\users\\user\\appdata\\local\\programs\\python\\python310\\lib\\site-packages (from matplotlib!=3.6.1,>=3.1->seaborn) (1.1.0)\n",
      "Requirement already satisfied: cycler>=0.10 in c:\\users\\user\\appdata\\local\\programs\\python\\python310\\lib\\site-packages (from matplotlib!=3.6.1,>=3.1->seaborn) (0.11.0)\n",
      "Requirement already satisfied: fonttools>=4.22.0 in c:\\users\\user\\appdata\\local\\programs\\python\\python310\\lib\\site-packages (from matplotlib!=3.6.1,>=3.1->seaborn) (4.42.1)\n",
      "Requirement already satisfied: kiwisolver>=1.0.1 in c:\\users\\user\\appdata\\local\\programs\\python\\python310\\lib\\site-packages (from matplotlib!=3.6.1,>=3.1->seaborn) (1.4.4)\n",
      "Requirement already satisfied: packaging>=20.0 in c:\\users\\user\\appdata\\local\\programs\\python\\python310\\lib\\site-packages (from matplotlib!=3.6.1,>=3.1->seaborn) (23.1)\n",
      "Requirement already satisfied: pillow>=6.2.0 in c:\\users\\user\\appdata\\local\\programs\\python\\python310\\lib\\site-packages (from matplotlib!=3.6.1,>=3.1->seaborn) (10.0.0)\n",
      "Requirement already satisfied: pyparsing<3.1,>=2.3.1 in c:\\users\\user\\appdata\\local\\programs\\python\\python310\\lib\\site-packages (from matplotlib!=3.6.1,>=3.1->seaborn) (3.0.9)\n",
      "Requirement already satisfied: python-dateutil>=2.7 in c:\\users\\user\\appdata\\local\\programs\\python\\python310\\lib\\site-packages (from matplotlib!=3.6.1,>=3.1->seaborn) (2.8.2)\n",
      "Requirement already satisfied: pytz>=2020.1 in c:\\users\\user\\appdata\\local\\programs\\python\\python310\\lib\\site-packages (from pandas>=0.25->seaborn) (2023.3)\n",
      "Requirement already satisfied: tzdata>=2022.1 in c:\\users\\user\\appdata\\local\\programs\\python\\python310\\lib\\site-packages (from pandas>=0.25->seaborn) (2023.3)\n",
      "Requirement already satisfied: six>=1.5 in c:\\users\\user\\appdata\\local\\programs\\python\\python310\\lib\\site-packages (from python-dateutil>=2.7->matplotlib!=3.6.1,>=3.1->seaborn) (1.16.0)\n",
      "Requirement already satisfied: matplotlib in c:\\users\\user\\appdata\\local\\programs\\python\\python310\\lib\\site-packages (3.7.2)\n",
      "Requirement already satisfied: contourpy>=1.0.1 in c:\\users\\user\\appdata\\local\\programs\\python\\python310\\lib\\site-packages (from matplotlib) (1.1.0)\n",
      "Requirement already satisfied: cycler>=0.10 in c:\\users\\user\\appdata\\local\\programs\\python\\python310\\lib\\site-packages (from matplotlib) (0.11.0)\n",
      "Requirement already satisfied: fonttools>=4.22.0 in c:\\users\\user\\appdata\\local\\programs\\python\\python310\\lib\\site-packages (from matplotlib) (4.42.1)\n",
      "Requirement already satisfied: kiwisolver>=1.0.1 in c:\\users\\user\\appdata\\local\\programs\\python\\python310\\lib\\site-packages (from matplotlib) (1.4.4)\n",
      "Requirement already satisfied: numpy>=1.20 in c:\\users\\user\\appdata\\local\\programs\\python\\python310\\lib\\site-packages (from matplotlib) (1.25.2)\n",
      "Requirement already satisfied: packaging>=20.0 in c:\\users\\user\\appdata\\local\\programs\\python\\python310\\lib\\site-packages (from matplotlib) (23.1)\n",
      "Requirement already satisfied: pillow>=6.2.0 in c:\\users\\user\\appdata\\local\\programs\\python\\python310\\lib\\site-packages (from matplotlib) (10.0.0)\n",
      "Requirement already satisfied: pyparsing<3.1,>=2.3.1 in c:\\users\\user\\appdata\\local\\programs\\python\\python310\\lib\\site-packages (from matplotlib) (3.0.9)\n",
      "Requirement already satisfied: python-dateutil>=2.7 in c:\\users\\user\\appdata\\local\\programs\\python\\python310\\lib\\site-packages (from matplotlib) (2.8.2)\n",
      "Requirement already satisfied: six>=1.5 in c:\\users\\user\\appdata\\local\\programs\\python\\python310\\lib\\site-packages (from python-dateutil>=2.7->matplotlib) (1.16.0)\n"
     ]
    }
   ],
   "source": [
    "!pip install pandas\n",
    "!pip install seaborn\n",
    "!pip install matplotlib"
   ]
  },
  {
   "cell_type": "code",
   "execution_count": 127,
   "id": "8aae241a-0efb-41f5-9ce3-646e5376c1f5",
   "metadata": {},
   "outputs": [],
   "source": [
    "import pandas as pd\n",
    "import seaborn as sns\n",
    "import matplotlib.pyplot as plt"
   ]
  },
  {
   "cell_type": "code",
   "execution_count": 5,
   "id": "d5d91d42-a003-4be6-9bd3-0a036dec320d",
   "metadata": {},
   "outputs": [],
   "source": [
    "salaries = pd.read_csv('Desktop/Data Analyst Portfolio/Datasets/salary_data_cleaned.csv')"
   ]
  },
  {
   "cell_type": "code",
   "execution_count": 7,
   "id": "2212a590-d778-4beb-9dbe-dfb65a6f2363",
   "metadata": {},
   "outputs": [
    {
     "name": "stdout",
     "output_type": "stream",
     "text": [
      "                   Job Title              Salary Estimate  \\\n",
      "0             Data Scientist   $53K-$91K (Glassdoor est.)   \n",
      "1  Healthcare Data Scientist  $63K-$112K (Glassdoor est.)   \n",
      "2             Data Scientist   $80K-$90K (Glassdoor est.)   \n",
      "3             Data Scientist   $56K-$97K (Glassdoor est.)   \n",
      "4             Data Scientist  $86K-$143K (Glassdoor est.)   \n",
      "\n",
      "                                     Job Description  Rating  \\\n",
      "0  Data Scientist\\nLocation: Albuquerque, NM\\nEdu...     3.8   \n",
      "1  What You Will Do:\\n\\nI. General Summary\\n\\nThe...     3.4   \n",
      "2  KnowBe4, Inc. is a high growth information sec...     4.8   \n",
      "3  *Organization and Job ID**\\nJob ID: 310709\\n\\n...     3.8   \n",
      "4  Data Scientist\\nAffinity Solutions / Marketing...     2.9   \n",
      "\n",
      "                                 Company Name         Location  \\\n",
      "0                      Tecolote Research\\n3.8  Albuquerque, NM   \n",
      "1  University of Maryland Medical System\\n3.4    Linthicum, MD   \n",
      "2                                KnowBe4\\n4.8   Clearwater, FL   \n",
      "3                                   PNNL\\n3.8     Richland, WA   \n",
      "4                     Affinity Solutions\\n2.9     New York, NY   \n",
      "\n",
      "     Headquarters                    Size  Founded   Type of ownership  ...  \\\n",
      "0      Goleta, CA   501 to 1000 employees     1973   Company - Private  ...   \n",
      "1   Baltimore, MD        10000+ employees     1984  Other Organization  ...   \n",
      "2  Clearwater, FL   501 to 1000 employees     2010   Company - Private  ...   \n",
      "3    Richland, WA  1001 to 5000 employees     1965          Government  ...   \n",
      "4    New York, NY     51 to 200 employees     1998   Company - Private  ...   \n",
      "\n",
      "  avg_salary                              company_txt job_state same_state  \\\n",
      "0       72.0                      Tecolote Research\\n        NM          0   \n",
      "1       87.5  University of Maryland Medical System\\n        MD          0   \n",
      "2       85.0                                KnowBe4\\n        FL          1   \n",
      "3       76.5                                   PNNL\\n        WA          1   \n",
      "4      114.5                     Affinity Solutions\\n        NY          1   \n",
      "\n",
      "   age  python_yn  R_yn  spark  aws excel  \n",
      "0   47          1     0      0    0     1  \n",
      "1   36          1     0      0    0     0  \n",
      "2   10          1     0      1    0     1  \n",
      "3   55          1     0      0    0     0  \n",
      "4   22          1     0      0    0     1  \n",
      "\n",
      "[5 rows x 28 columns]\n"
     ]
    }
   ],
   "source": [
    "print(salaries.head())"
   ]
  },
  {
   "cell_type": "code",
   "execution_count": 102,
   "id": "6273fa97-0621-482b-9357-cd2a2e5db50b",
   "metadata": {},
   "outputs": [
    {
     "name": "stdout",
     "output_type": "stream",
     "text": [
      "0\n"
     ]
    }
   ],
   "source": [
    "print(salaries['Salary Estimate'].isna().sum())"
   ]
  },
  {
   "cell_type": "code",
   "execution_count": 25,
   "id": "6d87aa49-3680-4a1a-b282-3270403c7490",
   "metadata": {},
   "outputs": [],
   "source": [
    "salaries['Salary Estimate'] = salaries['Salary Estimate'].apply(lambda x: x.split(\"(\")[0].strip())\n"
   ]
  },
  {
   "cell_type": "code",
   "execution_count": 36,
   "id": "8f946a70-2995-4997-9037-c17c4dbc65aa",
   "metadata": {},
   "outputs": [
    {
     "name": "stdout",
     "output_type": "stream",
     "text": [
      "0       $53K-$91K\n",
      "1      $63K-$112K\n",
      "2       $80K-$90K\n",
      "3       $56K-$97K\n",
      "4      $86K-$143K\n",
      "          ...    \n",
      "737    $58K-$111K\n",
      "738    $72K-$133K\n",
      "739     $56K-$91K\n",
      "740    $95K-$160K\n",
      "741    $61K-$126K\n",
      "Name: Salary Estimate, Length: 742, dtype: object\n"
     ]
    }
   ],
   "source": [
    "print(salaries['Salary Estimate'])"
   ]
  },
  {
   "cell_type": "code",
   "execution_count": 37,
   "id": "02c7f838-03f9-429f-801a-4182217d26a8",
   "metadata": {},
   "outputs": [],
   "source": [
    "salaries['Salary Min Estimate'] = salaries['Salary Estimate'].str.extract(r'\\$(\\d+)K')[0]"
   ]
  },
  {
   "cell_type": "code",
   "execution_count": 89,
   "id": "57363499-6358-4b32-bbc9-cf83d41ac3bc",
   "metadata": {},
   "outputs": [
    {
     "name": "stdout",
     "output_type": "stream",
     "text": [
      "object\n"
     ]
    }
   ],
   "source": [
    "print(salaries['Salary Estimate'].dtype)"
   ]
  },
  {
   "cell_type": "code",
   "execution_count": 90,
   "id": "2957a287-76cc-4fbe-9fe7-a42ecda96b2e",
   "metadata": {},
   "outputs": [],
   "source": [
    "salaries['Salary Min Estimate'] = salaries['Salary Min Estimate'].astype(int)"
   ]
  },
  {
   "cell_type": "code",
   "execution_count": 91,
   "id": "ad6cb6ff-d947-40c3-88ea-d5f77be8c273",
   "metadata": {},
   "outputs": [
    {
     "name": "stdout",
     "output_type": "stream",
     "text": [
      "0      53\n",
      "1      63\n",
      "2      80\n",
      "3      56\n",
      "4      86\n",
      "       ..\n",
      "737    58\n",
      "738    72\n",
      "739    56\n",
      "740    95\n",
      "741    61\n",
      "Name: Salary Min Estimate, Length: 742, dtype: int32\n"
     ]
    }
   ],
   "source": [
    "print(salaries['Salary Min Estimate'])"
   ]
  },
  {
   "cell_type": "code",
   "execution_count": 92,
   "id": "034655d1-b48b-4d12-ac24-7d643fb6c3e0",
   "metadata": {},
   "outputs": [
    {
     "name": "stdout",
     "output_type": "stream",
     "text": [
      "73.4177897574124\n"
     ]
    }
   ],
   "source": [
    "print(salaries['Salary Min Estimate'].mean())"
   ]
  },
  {
   "cell_type": "code",
   "execution_count": 93,
   "id": "83d4e039-b6d0-47eb-84ed-6fef7bf780c2",
   "metadata": {},
   "outputs": [
    {
     "data": {
      "text/plain": [
       "<Axes: xlabel='Salary Min Estimate', ylabel='Count'>"
      ]
     },
     "execution_count": 93,
     "metadata": {},
     "output_type": "execute_result"
    },
    {
     "data": {
      "image/png": "[encoded data removed]",
      "text/plain": [
       "<Figure size 640x480 with 1 Axes>"
      ]
     },
     "metadata": {},
     "output_type": "display_data"
    }
   ],
   "source": [
    "sns.histplot(salaries['Salary Min Estimate'], bins = 5)"
   ]
  },
  {
   "cell_type": "code",
   "execution_count": 86,
   "id": "2d1e2e02-a6b5-4f01-84a3-12001316c1dc",
   "metadata": {},
   "outputs": [],
   "source": [
    "salaries['Salary Max Estimate'] = salaries['Salary Estimate'].str.extract(r'\\$(\\d+)K-\\$(\\d+)K')[1]"
   ]
  },
  {
   "cell_type": "code",
   "execution_count": 88,
   "id": "503353a9-0638-47e8-8bef-417d51a47e0f",
   "metadata": {},
   "outputs": [
    {
     "name": "stdout",
     "output_type": "stream",
     "text": [
      "0       91.0\n",
      "1      112.0\n",
      "2       90.0\n",
      "3       97.0\n",
      "4      143.0\n",
      "       ...  \n",
      "737    111.0\n",
      "738    133.0\n",
      "739     91.0\n",
      "740    160.0\n",
      "741    126.0\n",
      "Name: Salary Max Estimate, Length: 742, dtype: float64\n"
     ]
    }
   ],
   "source": [
    "print(salaries['Salary Max Estimate'])"
   ]
  },
  {
   "cell_type": "code",
   "execution_count": 96,
   "id": "3070f4e0-bdf0-465e-9a7c-8f5b88ca3845",
   "metadata": {},
   "outputs": [],
   "source": [
    "salaries['Salary Min Estimate'] = pd.to_numeric(salaries['Salary Min Estimate'], errors='coerce')"
   ]
  },
  {
   "cell_type": "code",
   "execution_count": 99,
   "id": "d7606817-34b7-4f1e-860f-263e12cfc09b",
   "metadata": {},
   "outputs": [],
   "source": [
    "salaries['Salary Max Estimate'] = salaries['Salary Max Estimate'].fillna(0).astype(int)"
   ]
  },
  {
   "cell_type": "code",
   "execution_count": 103,
   "id": "285ef35a-46b6-4bfb-90e6-94785811053a",
   "metadata": {},
   "outputs": [
    {
     "name": "stdout",
     "output_type": "stream",
     "text": [
      "0       91\n",
      "1      112\n",
      "2       90\n",
      "3       97\n",
      "4      143\n",
      "      ... \n",
      "737    111\n",
      "738    133\n",
      "739     91\n",
      "740    160\n",
      "741    126\n",
      "Name: Salary Max Estimate, Length: 742, dtype: int32\n"
     ]
    }
   ],
   "source": [
    "print(salaries['Salary Max Estimate'])"
   ]
  },
  {
   "cell_type": "code",
   "execution_count": 105,
   "id": "a93ea235-1411-428b-aaaf-38ef1217a272",
   "metadata": {},
   "outputs": [
    {
     "name": "stdout",
     "output_type": "stream",
     "text": [
      "124.0\n"
     ]
    }
   ],
   "source": [
    "print(salaries['Salary Max Estimate'].median())"
   ]
  },
  {
   "cell_type": "code",
   "execution_count": 106,
   "id": "7ac863e6-e614-4e59-8128-d9347d480bbb",
   "metadata": {},
   "outputs": [
    {
     "name": "stdout",
     "output_type": "stream",
     "text": [
      "126.21698113207547\n"
     ]
    }
   ],
   "source": [
    "print(salaries['Salary Max Estimate'].mean())"
   ]
  },
  {
   "cell_type": "code",
   "execution_count": 111,
   "id": "966cf484-0de2-4311-ab8b-0ebc1e910255",
   "metadata": {},
   "outputs": [
    {
     "data": {
      "text/plain": [
       "<Axes: xlabel='Salary Max Estimate', ylabel='Count'>"
      ]
     },
     "execution_count": 111,
     "metadata": {},
     "output_type": "execute_result"
    },
    {
     "data": {
      "image/png": "[encoded data removed]",
      "text/plain": [
       "<Figure size 640x480 with 1 Axes>"
      ]
     },
     "metadata": {},
     "output_type": "display_data"
    }
   ],
   "source": [
    "sns.histplot(salaries['Salary Max Estimate'], bins = 5)"
   ]
  },
  {
   "cell_type": "code",
   "execution_count": 108,
   "id": "8ceafa55-3f9f-460a-a021-7ed7827747a3",
   "metadata": {},
   "outputs": [],
   "source": [
    "max_plus_min_estimate = salaries['Salary Max Estimate'].mean() + salaries['Salary Min Estimate'].mean()"
   ]
  },
  {
   "cell_type": "code",
   "execution_count": 109,
   "id": "59672b83-2ddb-4778-840c-01f99b7b0ffa",
   "metadata": {},
   "outputs": [],
   "source": [
    "mean_max_min_estimate = max_plus_min_estimate / 2"
   ]
  },
  {
   "cell_type": "code",
   "execution_count": 110,
   "id": "cd758ec5-962b-4eb2-b7e3-81bf6fe94acc",
   "metadata": {},
   "outputs": [
    {
     "name": "stdout",
     "output_type": "stream",
     "text": [
      "99.81738544474393\n"
     ]
    }
   ],
   "source": [
    "print(mean_max_min_estimate)"
   ]
  },
  {
   "cell_type": "code",
   "execution_count": 112,
   "id": "348e1d9d-1f64-4d3f-95ea-cdd72eaa7cea",
   "metadata": {},
   "outputs": [],
   "source": [
    "salaries['Salaries Mean Estimate'] = salaries.apply(lambda row: (row['Salary Max Estimate'] + row['Salary Min Estimate']) / 2, axis=1)"
   ]
  },
  {
   "cell_type": "code",
   "execution_count": 129,
   "id": "3c55d86b-1309-4cb8-9a14-41d638352ce1",
   "metadata": {},
   "outputs": [
    {
     "name": "stdout",
     "output_type": "stream",
     "text": [
      "99.81738544474393\n"
     ]
    }
   ],
   "source": [
    "mean_salary = salaries['Salaries Mean Estimate'].mean()\n",
    "print(mean_salary)"
   ]
  },
  {
   "cell_type": "code",
   "execution_count": 128,
   "id": "62650ddb-20b5-4f60-92df-68ff3652dfeb",
   "metadata": {},
   "outputs": [
    {
     "data": {
      "image/png": "[encoded data removed]",
      "text/plain": [
       "<Figure size 640x480 with 1 Axes>"
      ]
     },
     "metadata": {},
     "output_type": "display_data"
    }
   ],
   "source": [
    "sns.histplot(salaries['Salaries Mean Estimate'], bins = 5)\n",
    "plt.axvline(x=99.81738544474393, color='red', linestyle='dashed', linewidth=2, label='Value 99')\n",
    "plt.show()"
   ]
  }
 ],
 "metadata": {
  "kernelspec": {
   "display_name": "Python 3 (ipykernel)",
   "language": "python",
   "name": "python3"
  },
  "language_info": {
   "codemirror_mode": {
    "name": "ipython",
    "version": 3
   },
   "file_extension": ".py",
   "mimetype": "text/x-python",
   "name": "python",
   "nbconvert_exporter": "python",
   "pygments_lexer": "ipython3",
   "version": "3.10.4"
  }
 },
 "nbformat": 4,
 "nbformat_minor": 5
}
